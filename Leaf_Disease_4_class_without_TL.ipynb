{
  "cells": [
    {
      "cell_type": "code",
      "execution_count": null,
      "metadata": {
        "colab": {
          "base_uri": "https://localhost:8080/"
        },
        "id": "Xn1xYmskWZWv",
        "outputId": "0000c6ed-a111-469f-ed41-c02a5fd393b6"
      },
      "outputs": [
        {
          "output_type": "stream",
          "name": "stdout",
          "text": [
            "Drive already mounted at /content/drive; to attempt to forcibly remount, call drive.mount(\"/content/drive\", force_remount=True).\n",
            "2.8.0\n",
            "2.8.0\n"
          ]
        }
      ],
      "source": [
        "from google.colab import drive\n",
        "drive.mount('/content/drive')\n",
        "import os\n",
        "import tensorflow as tf\n",
        "print(tf.__version__)\n",
        "import keras\n",
        "print(keras.__version__)\n",
        "%reload_ext autoreload\n",
        "%autoreload 2\n",
        "%matplotlib inline"
      ]
    },
    {
      "cell_type": "code",
      "execution_count": null,
      "metadata": {
        "id": "Lf7rrLjBWoz8"
      },
      "outputs": [],
      "source": [
        "import numpy as np\n",
        "import pandas as pd\n",
        "import matplotlib.pyplot as plt\n",
        "import seaborn as sns\n",
        "# import tensorflow as tf\n",
        "# from keras.models import Sequential\n",
        "import cv2 \n",
        "# from PIL import Image\n",
        "# from keras.preprocessing.image import ImageDataGenerator\n",
        "from sklearn.model_selection import train_test_split\n",
        "from sklearn.preprocessing import LabelEncoder\n",
        "from sklearn.model_selection import KFold\n",
        "from tqdm import tqdm\n",
        "from matplotlib.pyplot import imshow"
      ]
    },
    {
      "cell_type": "code",
      "source": [
        "import torch\n",
        "import torch.nn as nn\n",
        "import torch.optim as optim\n",
        "import torch.nn.functional as F\n",
        "import torchvision\n",
        "from torchvision import *\n",
        "from torch.utils.data import Dataset, DataLoader, TensorDataset\n",
        "\n",
        "import time\n",
        "import copy\n",
        "import os"
      ],
      "metadata": {
        "id": "jtcNP_LToezS"
      },
      "execution_count": null,
      "outputs": []
    },
    {
      "cell_type": "code",
      "source": [
        "batch_size = 32\n",
        "learning_rate = 1e-3"
      ],
      "metadata": {
        "id": "vkiWicvlorM6"
      },
      "execution_count": null,
      "outputs": []
    },
    {
      "cell_type": "markdown",
      "metadata": {
        "id": "e188lIO2Wh0z"
      },
      "source": [
        "Loading the Dataset"
      ]
    },
    {
      "cell_type": "code",
      "execution_count": null,
      "metadata": {
        "id": "Lyz1JWlpXIRC"
      },
      "outputs": [],
      "source": [
        "bs = 16  #batch size: if your GPU is running out of memory, set a smaller batch size, i.e 16\n",
        "sz = 150 #image size\n",
        "#x1 = pd.read_csv(\"/content/drive/MyDrive/ADHD/Dataset/Train/train_channel_1.csv\", header = None).values #trainer matrix\n",
        "PATH = '/content/drive/MyDrive/Rice Leaf Disease Images'"
      ]
    },
    {
      "cell_type": "code",
      "execution_count": null,
      "metadata": {
        "id": "_E3edV7qXBaU"
      },
      "outputs": [],
      "source": [
        "im_size=sz\n",
        "BACTERIALBLIGHT_DIR= '/content/drive/MyDrive/Rice Leaf Disease Images/Bacterialblight/'\n",
        "TUNGRO_DIR='/content/drive/MyDrive/Rice Leaf Disease Images/Tungro/'\n",
        "BROWNSPOT_DIR='/content/drive/MyDrive/Rice Leaf Disease Images/Brownspot/'\n",
        "BLAST_DIR='/content/drive/MyDrive/Rice Leaf Disease Images/Blast/'\n",
        "\n",
        "\n"
      ]
    },
    {
      "cell_type": "code",
      "execution_count": null,
      "metadata": {
        "id": "vwV4N4ypnELr"
      },
      "outputs": [],
      "source": [
        "X_image=[]\n",
        "Y_label=[]\n",
        "\n",
        "def data_process(flower_name,DIR):\n",
        "    c=0\n",
        "    for img in tqdm(os.listdir(DIR)):\n",
        "        label=flower_name\n",
        "        path=os.path.join(DIR,img)\n",
        "        im=cv2.imread(path,cv2.IMREAD_COLOR)\n",
        "        imd=cv2.resize(im,(im_size,im_size),cv2.INTER_AREA)\n",
        "        Y_label.append(str(label))\n",
        "        X_image.append(np.array(imd))\n",
        "        c=c+1\n",
        "\n",
        "    print(str(c)+\" images attached successfully to array\")"
      ]
    },
    {
      "cell_type": "code",
      "execution_count": null,
      "metadata": {
        "colab": {
          "base_uri": "https://localhost:8080/"
        },
        "id": "EgA-neTWY_a0",
        "outputId": "3664ff6b-eb5a-4c56-86a9-4981ecb136f5"
      },
      "outputs": [
        {
          "output_type": "stream",
          "name": "stderr",
          "text": [
            "100%|██████████| 1584/1584 [00:18<00:00, 85.52it/s] \n"
          ]
        },
        {
          "output_type": "stream",
          "name": "stdout",
          "text": [
            "1584 images attached successfully to array\n"
          ]
        },
        {
          "output_type": "stream",
          "name": "stderr",
          "text": [
            "100%|██████████| 1600/1600 [00:11<00:00, 135.26it/s]\n"
          ]
        },
        {
          "output_type": "stream",
          "name": "stdout",
          "text": [
            "1600 images attached successfully to array\n"
          ]
        },
        {
          "output_type": "stream",
          "name": "stderr",
          "text": [
            "100%|██████████| 1308/1308 [00:11<00:00, 116.53it/s]\n"
          ]
        },
        {
          "output_type": "stream",
          "name": "stdout",
          "text": [
            "1308 images attached successfully to array\n"
          ]
        },
        {
          "output_type": "stream",
          "name": "stderr",
          "text": [
            "100%|██████████| 1440/1440 [00:11<00:00, 123.52it/s]"
          ]
        },
        {
          "output_type": "stream",
          "name": "stdout",
          "text": [
            "1440 images attached successfully to array\n"
          ]
        },
        {
          "output_type": "stream",
          "name": "stderr",
          "text": [
            "\n"
          ]
        }
      ],
      "source": [
        "data_process('Bacterialblight',BACTERIALBLIGHT_DIR)\n",
        "data_process('Brownspot',BROWNSPOT_DIR)\n",
        "data_process('Tungro',TUNGRO_DIR)\n",
        "data_process('Blast',BLAST_DIR)"
      ]
    },
    {
      "cell_type": "markdown",
      "metadata": {
        "id": "OpPIFhEAYHpy"
      },
      "source": [
        "Encoding The labels"
      ]
    },
    {
      "cell_type": "code",
      "execution_count": null,
      "metadata": {
        "id": "8k0z6v71aVhj"
      },
      "outputs": [],
      "source": [
        "# name= ['Bacterialblight', 'Tungro', 'Brownspot', 'Blast']\n",
        "from sklearn.preprocessing import LabelBinarizer\n",
        "label_binarizer = LabelBinarizer()\n",
        "Y = label_binarizer.fit_transform(Y_label)"
      ]
    },
    {
      "cell_type": "code",
      "execution_count": null,
      "metadata": {
        "id": "d0sfwdZoYR_K"
      },
      "outputs": [],
      "source": [
        "# X=np.array(X_image)\n",
        "# tensor_x = torch.Tensor(X) # transform to torch tensor\n",
        "# tensor_y= torch.Tensor(Y)"
      ]
    },
    {
      "cell_type": "code",
      "execution_count": null,
      "metadata": {
        "id": "FkAh6UztOz9n"
      },
      "outputs": [],
      "source": [
        "# Y_t=to_categorical(Y_label)"
      ]
    },
    {
      "cell_type": "code",
      "execution_count": null,
      "metadata": {
        "id": "hiUBbcpDYO6z"
      },
      "outputs": [],
      "source": [
        "X_image=np.array(X_image)\n",
        "X_image= np.moveaxis(X_image,-1,1)"
      ]
    },
    {
      "cell_type": "code",
      "execution_count": null,
      "metadata": {
        "id": "G66MkKhodjb1"
      },
      "outputs": [],
      "source": [
        "x_train, x_test, y_train, y_test=train_test_split(X_image,Y,test_size=0.3)"
      ]
    },
    {
      "cell_type": "code",
      "execution_count": null,
      "metadata": {
        "id": "y5yByXgfdlCO"
      },
      "outputs": [],
      "source": [
        "device = torch.device('cuda')\n",
        "x_train = torch.Tensor(x_train)\n",
        "y_train = torch.Tensor(y_train)\n",
        "x_test = torch.Tensor(x_test)\n",
        "y_test = torch.Tensor(y_test)"
      ]
    },
    {
      "cell_type": "code",
      "source": [
        "train_dataset = TensorDataset(x_train,y_train,)\n",
        "test_dataset = TensorDataset(x_test, y_test)\n",
        "# del x_train\n",
        "# del x_test\n",
        "# del y_train\n",
        "# del y_test"
      ],
      "metadata": {
        "id": "dniCw4DUxOJq"
      },
      "execution_count": null,
      "outputs": []
    },
    {
      "cell_type": "code",
      "source": [
        "device = device = torch.device(\"cuda:0\" if torch.cuda.is_available() else \"cpu\")\n",
        "train_dataloader = DataLoader(train_dataset, batch_size=batch_size, shuffle=True)\n",
        "test_dataloader = DataLoader(test_dataset, batch_size=batch_size, shuffle=True)\n"
      ],
      "metadata": {
        "id": "Gq61hSnpx8dR"
      },
      "execution_count": null,
      "outputs": []
    },
    {
      "cell_type": "code",
      "source": [
        "train_dataloader"
      ],
      "metadata": {
        "colab": {
          "base_uri": "https://localhost:8080/"
        },
        "id": "zBmzdMr9Fdm2",
        "outputId": "c50e856d-e686-4e41-8017-929fbcc66c8e"
      },
      "execution_count": null,
      "outputs": [
        {
          "output_type": "execute_result",
          "data": {
            "text/plain": [
              "<torch.utils.data.dataloader.DataLoader at 0x7f37b69d0e10>"
            ]
          },
          "metadata": {},
          "execution_count": 17
        }
      ]
    },
    {
      "cell_type": "code",
      "source": [
        "model = torchvision.models.resnet34(pretrained = False)\n",
        "model = model.to(device)\n",
        "n_inputs = model.fc.in_features\n",
        "model.fc = nn.Sequential(nn.Linear(n_inputs,256),nn.Linear(256,4))"
      ],
      "metadata": {
        "id": "DyhDZiIlyEjJ"
      },
      "execution_count": null,
      "outputs": []
    },
    {
      "cell_type": "code",
      "execution_count": null,
      "metadata": {
        "id": "qPvEkcEhfrCf"
      },
      "outputs": [],
      "source": [
        "# tf_input=tf.keras.Input(shape=(300,300,3))\n",
        "# res_model=tf.keras.applications.ResNet50(include_top=False,input_tensor=tf_input,weights='imagenet')\n",
        "# del X_image\n"
      ]
    },
    {
      "cell_type": "code",
      "source": [
        "device"
      ],
      "metadata": {
        "colab": {
          "base_uri": "https://localhost:8080/"
        },
        "id": "Uath146uHWu3",
        "outputId": "3e718b8b-1c3a-4998-f58f-0602807877bb"
      },
      "execution_count": null,
      "outputs": [
        {
          "output_type": "execute_result",
          "data": {
            "text/plain": [
              "device(type='cuda', index=0)"
            ]
          },
          "metadata": {},
          "execution_count": 20
        }
      ]
    },
    {
      "cell_type": "code",
      "source": [
        "# del Y"
      ],
      "metadata": {
        "id": "PQQe0d9C4xwo"
      },
      "execution_count": null,
      "outputs": []
    },
    {
      "cell_type": "code",
      "source": [
        "criterion = nn.CrossEntropyLoss()\n",
        "optimizer = torch.optim.Adam(model.parameters(),lr = learning_rate)\n"
      ],
      "metadata": {
        "id": "6yrqEuxZ46VS"
      },
      "execution_count": null,
      "outputs": []
    },
    {
      "cell_type": "code",
      "source": [
        "from sklearn.metrics import accuracy_score"
      ],
      "metadata": {
        "id": "pBVS5euRVgAB"
      },
      "execution_count": null,
      "outputs": []
    },
    {
      "cell_type": "code",
      "execution_count": null,
      "metadata": {
        "id": "su69PBdzk-yw",
        "colab": {
          "base_uri": "https://localhost:8080/"
        },
        "outputId": "6f5c1329-c66a-4842-f643-3acefacbb734"
      },
      "outputs": [
        {
          "output_type": "stream",
          "name": "stderr",
          "text": [
            "100%|██████████| 130/130 [00:33<00:00,  3.91it/s]\n"
          ]
        },
        {
          "output_type": "stream",
          "name": "stdout",
          "text": [
            "Epoch: 1 \tTraining Loss: 0.790456 \tValidation Loss: 1.036225\tTraining Accuracy: 0.705925\tTesting Accuracy: 0.624157\n"
          ]
        },
        {
          "output_type": "stream",
          "name": "stderr",
          "text": [
            "100%|██████████| 130/130 [00:32<00:00,  3.96it/s]\n"
          ]
        },
        {
          "output_type": "stream",
          "name": "stdout",
          "text": [
            "Epoch: 2 \tTraining Loss: 0.515700 \tValidation Loss: 0.394685\tTraining Accuracy: 0.819364\tTesting Accuracy: 0.887079\n"
          ]
        },
        {
          "output_type": "stream",
          "name": "stderr",
          "text": [
            "100%|██████████| 130/130 [00:32<00:00,  3.97it/s]\n"
          ]
        },
        {
          "output_type": "stream",
          "name": "stdout",
          "text": [
            "Epoch: 3 \tTraining Loss: 0.457370 \tValidation Loss: 0.923689\tTraining Accuracy: 0.839595\tTesting Accuracy: 0.689326\n"
          ]
        },
        {
          "output_type": "stream",
          "name": "stderr",
          "text": [
            "100%|██████████| 130/130 [00:32<00:00,  3.98it/s]\n"
          ]
        },
        {
          "output_type": "stream",
          "name": "stdout",
          "text": [
            "Epoch: 4 \tTraining Loss: 0.396592 \tValidation Loss: 0.738109\tTraining Accuracy: 0.861753\tTesting Accuracy: 0.764045\n"
          ]
        },
        {
          "output_type": "stream",
          "name": "stderr",
          "text": [
            "100%|██████████| 130/130 [00:32<00:00,  3.97it/s]\n"
          ]
        },
        {
          "output_type": "stream",
          "name": "stdout",
          "text": [
            "Epoch: 5 \tTraining Loss: 0.379915 \tValidation Loss: 0.568395\tTraining Accuracy: 0.865848\tTesting Accuracy: 0.778652\n"
          ]
        },
        {
          "output_type": "stream",
          "name": "stderr",
          "text": [
            "100%|██████████| 130/130 [00:32<00:00,  4.01it/s]\n"
          ]
        },
        {
          "output_type": "stream",
          "name": "stdout",
          "text": [
            "Epoch: 6 \tTraining Loss: 0.312284 \tValidation Loss: 0.402988\tTraining Accuracy: 0.884393\tTesting Accuracy: 0.888202\n"
          ]
        },
        {
          "output_type": "stream",
          "name": "stderr",
          "text": [
            "100%|██████████| 130/130 [00:32<00:00,  3.95it/s]\n"
          ]
        },
        {
          "output_type": "stream",
          "name": "stdout",
          "text": [
            "Epoch: 7 \tTraining Loss: 0.272581 \tValidation Loss: 0.771670\tTraining Accuracy: 0.900048\tTesting Accuracy: 0.809551\n"
          ]
        },
        {
          "output_type": "stream",
          "name": "stderr",
          "text": [
            "100%|██████████| 130/130 [00:33<00:00,  3.91it/s]\n"
          ]
        },
        {
          "output_type": "stream",
          "name": "stdout",
          "text": [
            "Epoch: 8 \tTraining Loss: 0.254186 \tValidation Loss: 0.325385\tTraining Accuracy: 0.904624\tTesting Accuracy: 0.874719\n"
          ]
        },
        {
          "output_type": "stream",
          "name": "stderr",
          "text": [
            "100%|██████████| 130/130 [00:32<00:00,  3.96it/s]\n"
          ]
        },
        {
          "output_type": "stream",
          "name": "stdout",
          "text": [
            "Epoch: 9 \tTraining Loss: 0.221922 \tValidation Loss: 0.182493\tTraining Accuracy: 0.919316\tTesting Accuracy: 0.944944\n"
          ]
        },
        {
          "output_type": "stream",
          "name": "stderr",
          "text": [
            "100%|██████████| 130/130 [00:32<00:00,  3.98it/s]\n"
          ]
        },
        {
          "output_type": "stream",
          "name": "stdout",
          "text": [
            "Epoch: 10 \tTraining Loss: 0.165789 \tValidation Loss: 0.766846\tTraining Accuracy: 0.949181\tTesting Accuracy: 0.796067\n"
          ]
        }
      ],
      "source": [
        "num_epochs = 10\n",
        "# keeping-track-of-losses \n",
        "prediction = []\n",
        "train_losses = []\n",
        "valid_losses = []\n",
        "train_acc = []\n",
        "valid_acc = []\n",
        "\n",
        "\n",
        "for epoch in range(1, num_epochs + 1):\n",
        "    # keep-track-of-training-and-validation-loss\n",
        "    prediction=[]\n",
        "    actual_result = []\n",
        "    train_loss = 0.0\n",
        "    valid_loss = 0.0\n",
        "\n",
        "    total = 0\n",
        "    processed = 0\n",
        "    total_test = 0\n",
        "    processed_test = 0\n",
        "    \n",
        "    # training-the-model\n",
        "    model.train().to(device)\n",
        "    for data, target in tqdm(train_dataloader):\n",
        "        # move-tensors-to-GPU \n",
        "        data = data.to(device)\n",
        "        target = target.to(device)\n",
        "        \n",
        "        # clear-the-gradients-of-all-optimized-variables\n",
        "        optimizer.zero_grad()\n",
        "        # forward-pass: compute-predicted-outputs-by-passing-inputs-to-the-model\n",
        "        output = model(data).to(device)\n",
        "\n",
        "\n",
        "        # print(\"Correct is\", correct,\" Out of\", len(data))\n",
        "            \n",
        "        # Update pbar-tqdm\n",
        "        # pbar.set_description(desc= f'Loss={loss.item()} Batch_id={batch_idx} Accuracy={100*correct/processed:0.2f}')\n",
        "        # train_acc.append(\"accuracy is\",100*correct/processed)\n",
        "        # print(\"predicted:\",predictions,\" Correct: \",correct )\n",
        "        # _, y_pred_tags = torch.max(output, dim = 1)\n",
        "        # ac= target.cpu()\n",
        "        # ac= list(ac)\n",
        "        # actual = np.argmax(ac,axis=1)\n",
        "        # actual_result.append(actual)\n",
        "\n",
        "        # calculate-the-batch-loss\n",
        "        loss = criterion(output, target)\n",
        "        # backward-pass: compute-gradient-of-the-loss-wrt-model-parameters\n",
        "        loss.backward()\n",
        "        # perform-a-ingle-optimization-step (parameter-update)\n",
        "        optimizer.step()\n",
        "        # update-training-loss\n",
        "        train_loss += loss.item() * data.size(0)\n",
        "        pred = output.argmax(dim=1, keepdim=True)  # get the index of the max log-probability\n",
        "        actual_result = target.argmax(dim=1,keepdim= True)\n",
        "        # correct += pred.eq(target.view_as(pred)).sum().item()\n",
        "        correct = 0\n",
        "        for i in range(len(data)):\n",
        "          if pred[i]==actual_result[i]:\n",
        "            correct=correct+1\n",
        "        processed += len(data)\n",
        "        total = total+correct\n",
        "                \n",
        "    # print(\"Training Accuracy is   \",100*total/processed)    \n",
        "    # validate-the-model\n",
        "    model.eval()\n",
        "    for data, target in test_dataloader:\n",
        "        \n",
        "        data = data.to(device)\n",
        "        target = target.to(device)\n",
        "        \n",
        "        output = model(data).to(device)\n",
        "        \n",
        "        loss = criterion(output, target)\n",
        "        \n",
        "        # update-average-validation-loss \n",
        "        valid_loss += loss.item() * data.size(0)\n",
        "\n",
        "        pred_test = output.argmax(dim=1, keepdim=True)  # get the index of the max log-probability\n",
        "        actual_result_test = target.argmax(dim=1,keepdim= True)\n",
        "        # correct += pred.eq(target.view_as(pred)).sum().item()\n",
        "        correct = 0\n",
        "        for i in range(len(data)):\n",
        "          if pred_test[i]==actual_result_test[i]:\n",
        "            correct=correct+1\n",
        "        processed_test += len(data)\n",
        "        total_test = total_test+correct  \n",
        "    # calculate-average-losses\n",
        "    train_loss = train_loss/len(train_dataloader.sampler)\n",
        "    valid_loss = valid_loss/len(test_dataloader.sampler)\n",
        "    train_losses.append(train_loss)\n",
        "    valid_losses.append(valid_loss)\n",
        "    # print(\"Testing Accuracy is   \",100*total_test/processed_test)    \n",
        "    #calculating-accuracy\n",
        "    # accuracy = []\n",
        "    # for i in range(len(prediction)):\n",
        "    #    accuracy.append(accuracy_score(target[i],prediction[i]))\n",
        "    \n",
        "    # print('training accuracy: \\t', np.average(accuracy))\n",
        "        \n",
        "    # print-training/validation-statistics \n",
        "    train_accuracy = total/processed\n",
        "    train_acc.append(train_accuracy)\n",
        "    test_accuracy = total_test/processed_test\n",
        "    valid_acc.append(test_accuracy)\n",
        "\n",
        "    print('Epoch: {} \\tTraining Loss: {:.6f} \\tValidation Loss: {:.6f}\\tTraining Accuracy: {:.6f}\\tTesting Accuracy: {:.6f}'.format(\n",
        "        epoch, train_loss, valid_loss, train_accuracy,test_accuracy))\n",
        "    "
      ]
    },
    {
      "cell_type": "code",
      "source": [
        "# summarize history for accuracy\n",
        "plt.plot(train_acc)\n",
        "plt.plot(valid_acc)\n",
        "plt.ylabel('accuracy')\n",
        "plt.xlabel('epoch')\n",
        "plt.legend(['train', 'test'], loc='upper left')\n",
        "plt.show()"
      ],
      "metadata": {
        "id": "C6dUi4M3Sx0V",
        "colab": {
          "base_uri": "https://localhost:8080/",
          "height": 279
        },
        "outputId": "ef0a2a4d-8d84-49f0-ebc6-e130762f54e0"
      },
      "execution_count": null,
      "outputs": [
        {
          "output_type": "display_data",
          "data": {
            "text/plain": [
              "<Figure size 432x288 with 1 Axes>"
            ],
            "image/png": "[encoded data removed]"
          },
          "metadata": {
            "needs_background": "light"
          }
        }
      ]
    },
    {
      "cell_type": "code",
      "source": [
        ""
      ],
      "metadata": {
        "id": "zmdj6UxNSe81"
      },
      "execution_count": null,
      "outputs": []
    }
  ],
  "metadata": {
    "accelerator": "GPU",
    "colab": {
      "collapsed_sections": [],
      "name": "Leaf_Disease_4_class_pytorch-resnet_34.ipynb",
      "provenance": []
    },
    "kernelspec": {
      "display_name": "Python 3",
      "name": "python3"
    },
    "language_info": {
      "name": "python"
    }
  },
  "nbformat": 4,
  "nbformat_minor": 0
}